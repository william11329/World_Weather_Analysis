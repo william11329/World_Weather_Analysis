{
 "cells": [
  {
   "cell_type": "code",
   "execution_count": 1,
   "id": "63abcff3",
   "metadata": {},
   "outputs": [],
   "source": [
    "#import the random module\n",
    "import random"
   ]
  },
  {
   "cell_type": "code",
   "execution_count": 2,
   "id": "0f428d74",
   "metadata": {},
   "outputs": [
    {
     "data": {
      "text/plain": [
       "48"
      ]
     },
     "execution_count": 2,
     "metadata": {},
     "output_type": "execute_result"
    }
   ],
   "source": [
    "random.randint(-90, 90)"
   ]
  },
  {
   "cell_type": "code",
   "execution_count": 3,
   "id": "e859d2ee",
   "metadata": {},
   "outputs": [
    {
     "data": {
      "text/plain": [
       "0.24634855402768563"
      ]
     },
     "execution_count": 3,
     "metadata": {},
     "output_type": "execute_result"
    }
   ],
   "source": [
    "random.random()"
   ]
  },
  {
   "cell_type": "code",
   "execution_count": 4,
   "id": "1605b7f5",
   "metadata": {},
   "outputs": [
    {
     "data": {
      "text/plain": [
       "53.368192185019055"
      ]
     },
     "execution_count": 4,
     "metadata": {},
     "output_type": "execute_result"
    }
   ],
   "source": [
    "random_number = random.randint(-90, 89) + random.random()\n",
    "random_number"
   ]
  },
  {
   "cell_type": "code",
   "execution_count": 5,
   "id": "aebf5703",
   "metadata": {},
   "outputs": [],
   "source": [
    "x = 1\n",
    "latitudes = []\n",
    "while x < 11:\n",
    "    random_lat = random.randint(-90, 89) + random.random()\n",
    "    latitudes.append(random_lat)\n",
    "    x += 1"
   ]
  },
  {
   "cell_type": "code",
   "execution_count": 8,
   "id": "1170634a",
   "metadata": {},
   "outputs": [
    {
     "data": {
      "text/plain": [
       "-38"
      ]
     },
     "execution_count": 8,
     "metadata": {},
     "output_type": "execute_result"
    }
   ],
   "source": [
    "random.randrange(-90, 90, step=1)"
   ]
  },
  {
   "cell_type": "code",
   "execution_count": 9,
   "id": "21f73260",
   "metadata": {},
   "outputs": [
    {
     "data": {
      "text/plain": [
       "-81"
      ]
     },
     "execution_count": 9,
     "metadata": {},
     "output_type": "execute_result"
    }
   ],
   "source": [
    "random.randrange(-90, 90, step=3)"
   ]
  },
  {
   "cell_type": "code",
   "execution_count": 10,
   "id": "b2c7361d",
   "metadata": {},
   "outputs": [
    {
     "data": {
      "text/plain": [
       "43.62478640520868"
      ]
     },
     "execution_count": 10,
     "metadata": {},
     "output_type": "execute_result"
    }
   ],
   "source": [
    "random.uniform(-90, 90)"
   ]
  },
  {
   "cell_type": "code",
   "execution_count": 11,
   "id": "314efa5b",
   "metadata": {},
   "outputs": [],
   "source": [
    "#import NumPy mod\n",
    "import numpy as np\n"
   ]
  },
  {
   "cell_type": "code",
   "execution_count": 12,
   "id": "e9fc154f",
   "metadata": {},
   "outputs": [
    {
     "data": {
      "text/plain": [
       "-28.630919370063154"
      ]
     },
     "execution_count": 12,
     "metadata": {},
     "output_type": "execute_result"
    }
   ],
   "source": [
    "np.random.uniform(-90.000, 90.000)"
   ]
  },
  {
   "cell_type": "code",
   "execution_count": 13,
   "id": "e182c978",
   "metadata": {},
   "outputs": [
    {
     "data": {
      "text/plain": [
       "array([ 26.83646449, -18.39809701, -27.56768764,  17.95778287,\n",
       "       -74.27516852, -73.63465535, -88.54859265,  -2.78045221,\n",
       "        29.54129589,  63.67262881, -34.6897935 ,   0.28603661,\n",
       "        53.35309234, -30.20727759, -57.99815772, -50.06027323,\n",
       "       -75.26507493,  50.76120468, -10.11384579,  47.17757801,\n",
       "       -48.25873758,  47.40545604, -37.9318419 , -65.05385184,\n",
       "       -40.64109301, -80.5230145 , -71.30975633,  35.48844928,\n",
       "        84.39562464,   5.49276849, -72.43814105, -27.00847931,\n",
       "       -44.07061585,  22.9991641 ,  -2.32972133,  88.53719914,\n",
       "       -13.02244933,  55.62725958,  47.13730075,  86.65644003,\n",
       "        -1.43181298, -29.00618146, -44.27877909, -41.08285739,\n",
       "         4.57777077, -85.40934722,  82.60247308,  79.61360694,\n",
       "        22.1163191 ,   5.82367199])"
      ]
     },
     "execution_count": 13,
     "metadata": {},
     "output_type": "execute_result"
    }
   ],
   "source": [
    "np.random.uniform(-90.000, 90.000, size=50)"
   ]
  },
  {
   "cell_type": "code",
   "execution_count": 14,
   "id": "01ed0cfa",
   "metadata": {},
   "outputs": [],
   "source": [
    "#import timeit module so we can see how long it takes our function to run\n",
    "import timeit"
   ]
  },
  {
   "cell_type": "code",
   "execution_count": 15,
   "id": "caba3ef0",
   "metadata": {},
   "outputs": [
    {
     "name": "stdout",
     "output_type": "stream",
     "text": [
      "7.71 µs ± 182 ns per loop (mean ± std. dev. of 7 runs, 100000 loops each)\n"
     ]
    }
   ],
   "source": [
    "%timeit np.random.uniform(-90.000, 90.000, size=1500)"
   ]
  },
  {
   "cell_type": "code",
   "execution_count": 16,
   "id": "e93437b3",
   "metadata": {},
   "outputs": [
    {
     "name": "stdout",
     "output_type": "stream",
     "text": [
      "903 µs ± 19 µs per loop (mean ± std. dev. of 7 runs, 1000 loops each)\n"
     ]
    }
   ],
   "source": [
    "def latitudes(size):\n",
    "    latitudes = []\n",
    "    x = 0\n",
    "    while x < (size):\n",
    "        random_lat = random.randint(-90, 90) + random.random()\n",
    "        latitudes.append(random_lat)\n",
    "        x += 1\n",
    "    return latitudes\n",
    "# Call the function with 1500.\n",
    "%timeit latitudes(1500)"
   ]
  },
  {
   "cell_type": "code",
   "execution_count": null,
   "id": "39d85d0b",
   "metadata": {},
   "outputs": [],
   "source": []
  }
 ],
 "metadata": {
  "kernelspec": {
   "display_name": "PythonData",
   "language": "python",
   "name": "pythondata"
  },
  "language_info": {
   "codemirror_mode": {
    "name": "ipython",
    "version": 3
   },
   "file_extension": ".py",
   "mimetype": "text/x-python",
   "name": "python",
   "nbconvert_exporter": "python",
   "pygments_lexer": "ipython3",
   "version": "3.7.13"
  }
 },
 "nbformat": 4,
 "nbformat_minor": 5
}
